{
 "cells": [
  {
   "cell_type": "code",
   "execution_count": 136,
   "metadata": {},
   "outputs": [],
   "source": [
    "import os\n",
    "import wave\n",
    "import base64\n",
    "import requests\n",
    "import json\n",
    "\n",
    "import numpy as np\n",
    "import pandas as pd\n",
    "from matplotlib import pylab as plt\n",
    "import seaborn as sns\n",
    "sns.set()"
   ]
  },
  {
   "cell_type": "code",
   "execution_count": 7,
   "metadata": {},
   "outputs": [
    {
     "data": {
      "text/plain": [
       "'/usr/src/app/sample'"
      ]
     },
     "execution_count": 7,
     "metadata": {},
     "output_type": "execute_result"
    }
   ],
   "source": [
    "os.getcwd()"
   ]
  },
  {
   "cell_type": "markdown",
   "metadata": {},
   "source": [
    "# 元データの確認"
   ]
  },
  {
   "cell_type": "markdown",
   "metadata": {},
   "source": [
    "## 音声データ"
   ]
  },
  {
   "cell_type": "code",
   "execution_count": 152,
   "metadata": {},
   "outputs": [],
   "source": [
    "class Wavedata:\n",
    "    \"\"\"\n",
    "    フィールド変数\n",
    "    -----------\n",
    "\n",
    "    self.binary           : bytes         byte列\n",
    "    self.base64           : str           bytesをbase64形式に変換した文字列 \n",
    "    self.array           : numpy_1d_data 音声ファイルから得られたの時系列データ shape(n_length,)\n",
    "    self.fs               : int           音声ファイルから得られた音声のサンプリング周波数\n",
    "    self.times            : numpy_1d_data 音声ファイルから得られたの時系列データの時間軸 shape(n_length,)\n",
    "    \"\"\"\n",
    "    \n",
    "    def __init__(self, filepath: str):\n",
    "        self.read_wavefile(filepath)\n",
    "\n",
    "    def read_wavefile(self, filepath: str):\n",
    "        wf = wave.open(filepath, \"rb\")\n",
    "        # サンプリングレート\n",
    "        fs = wf.getframerate()\n",
    "        # getnframes -> 全サンプル\n",
    "        # readframes -> 指定した長さのフレーム\n",
    "        binary = wf.readframes(wf.getnframes())\n",
    "        # frombuffer > バイナリ表記をintに変換\n",
    "        wavedata = np.frombuffer(binary, dtype=\"int16\")\n",
    "        wf.close()\n",
    "        \n",
    "        self.binary = binary\n",
    "        self.base64 = base64.b64encode(self.binary).decode(\"UTF-8\")\n",
    "        self.array  = wavedata\n",
    "        self.fs     = float(fs)\n",
    "        self.times  = np.arange(0.0, len(self.array)/self.fs, 1/self.fs)\n",
    "    \n",
    "    def plot(self, figsize=(20, 6.)):\n",
    "        df = pd.DataFrame({\n",
    "            'times[s]': self.times,\n",
    "            'signal': self.array\n",
    "        }).set_index('times[s]')\n",
    "        \n",
    "        fig = plt.figure(figsize=figsize)\n",
    "        ax = fig.add_subplot(111)\n",
    "        df.plot( ax=ax)\n",
    "        plt.show()"
   ]
  },
  {
   "cell_type": "code",
   "execution_count": 153,
   "metadata": {},
   "outputs": [],
   "source": [
    "wavedata = Wavedata('./data/sample_01.wav')"
   ]
  },
  {
   "cell_type": "code",
   "execution_count": 154,
   "metadata": {},
   "outputs": [
    {
     "data": {
      "text/plain": [
       "array([-45, -78, -67, ..., -66, -64, -72], dtype=int16)"
      ]
     },
     "execution_count": 154,
     "metadata": {},
     "output_type": "execute_result"
    }
   ],
   "source": [
    "wavedata.array"
   ]
  },
  {
   "cell_type": "code",
   "execution_count": 155,
   "metadata": {},
   "outputs": [
    {
     "data": {
      "text/plain": [
       "16000.0"
      ]
     },
     "execution_count": 155,
     "metadata": {},
     "output_type": "execute_result"
    }
   ],
   "source": [
    "wavedata.fs"
   ]
  },
  {
   "cell_type": "code",
   "execution_count": 156,
   "metadata": {},
   "outputs": [
    {
     "data": {
      "text/plain": [
       "array([0.0000000e+00, 6.2500000e-05, 1.2500000e-04, ..., 5.6798125e+00,\n",
       "       5.6798750e+00, 5.6799375e+00])"
      ]
     },
     "execution_count": 156,
     "metadata": {},
     "output_type": "execute_result"
    }
   ],
   "source": [
    "wavedata.times"
   ]
  },
  {
   "cell_type": "code",
   "execution_count": 157,
   "metadata": {},
   "outputs": [
    {
     "data": {
      "text/plain": [
       "b'\\xd3\\xff\\xb2\\xff\\xbd\\xff\\xba\\xff\\xb8\\xff\\xb7\\xff\\xb8\\xff\\xba\\xff\\xbd\\xff\\xb7\\xff\\xbd\\xff\\xb9\\xff\\xbc\\xff\\xbb\\xff\\xb9\\xff\\xbe\\xff\\xb8\\xff\\xc1\\xff\\xb7\\xff\\xc3\\xff\\xbb\\xff\\xc2\\xff\\xbd\\xff\\xbf\\xff\\xc0\\xff'"
      ]
     },
     "execution_count": 157,
     "metadata": {},
     "output_type": "execute_result"
    }
   ],
   "source": [
    "wavedata.binary[0:50]"
   ]
  },
  {
   "cell_type": "code",
   "execution_count": 158,
   "metadata": {},
   "outputs": [
    {
     "data": {
      "text/plain": [
       "'0/+y/73/uv+4/7f/uP+6/73/t/+9/7n/vP+7/7n/vv+4/8H/t/'"
      ]
     },
     "execution_count": 158,
     "metadata": {},
     "output_type": "execute_result"
    }
   ],
   "source": [
    "wavedata.base64[0:50]"
   ]
  },
  {
   "cell_type": "code",
   "execution_count": 159,
   "metadata": {},
   "outputs": [
    {
     "data": {
      "image/png": "[encoded data removed]",
      "text/plain": [
       "<Figure size 1440x432 with 1 Axes>"
      ]
     },
     "metadata": {},
     "output_type": "display_data"
    }
   ],
   "source": [
    "wavedata.plot()"
   ]
  },
  {
   "cell_type": "markdown",
   "metadata": {},
   "source": [
    "## テキストデータ"
   ]
  },
  {
   "cell_type": "code",
   "execution_count": 160,
   "metadata": {},
   "outputs": [
    {
     "data": {
      "text/plain": [
       "'きっときっとあれおくまでいくんだよねちがうかな'"
      ]
     },
     "execution_count": 160,
     "metadata": {},
     "output_type": "execute_result"
    }
   ],
   "source": [
    "f = open('./data/sample_01.txt')\n",
    "text = f.read().rstrip()  # ファイル終端まで全て読んだデータを返す\n",
    "f.close()\n",
    "text"
   ]
  },
  {
   "cell_type": "markdown",
   "metadata": {},
   "source": [
    "# APIを叩く"
   ]
  },
  {
   "cell_type": "code",
   "execution_count": 161,
   "metadata": {},
   "outputs": [],
   "source": [
    "# まずは疎通確認\n",
    "response = requests.get('http://localhost:8000')"
   ]
  },
  {
   "cell_type": "code",
   "execution_count": 162,
   "metadata": {},
   "outputs": [
    {
     "data": {
      "text/plain": [
       "200"
      ]
     },
     "execution_count": 162,
     "metadata": {},
     "output_type": "execute_result"
    }
   ],
   "source": [
    "# ステータスコード\n",
    "response.status_code"
   ]
  },
  {
   "cell_type": "code",
   "execution_count": 163,
   "metadata": {},
   "outputs": [
    {
     "data": {
      "text/plain": [
       "{'接続': '確認！'}"
      ]
     },
     "execution_count": 163,
     "metadata": {},
     "output_type": "execute_result"
    }
   ],
   "source": [
    "# レスポンス内容\n",
    "response.json()"
   ]
  },
  {
   "cell_type": "code",
   "execution_count": 198,
   "metadata": {},
   "outputs": [],
   "source": [
    "# 音素セグメンテーションapiを叩く\n",
    "headers: dict = {'content-type': 'application/json'}\n",
    "request_param: dict = {\n",
    "    'filename': 'sample_01.wav',\n",
    "    'wavedata': wavedata.base64,\n",
    "    'textdata': text\n",
    "}\n",
    "response = requests.post('http://localhost:8000', headers=headers, json=request_param)"
   ]
  },
  {
   "cell_type": "markdown",
   "metadata": {},
   "source": [
    "# レスポンスの確認"
   ]
  },
  {
   "cell_type": "code",
   "execution_count": 195,
   "metadata": {},
   "outputs": [
    {
     "data": {
      "text/plain": [
       "<Response [200]>"
      ]
     },
     "execution_count": 195,
     "metadata": {},
     "output_type": "execute_result"
    }
   ],
   "source": [
    "response"
   ]
  },
  {
   "cell_type": "code",
   "execution_count": 200,
   "metadata": {},
   "outputs": [
    {
     "data": {
      "text/plain": [
       "[{'phoneme': 'a',\n",
       "  'wavedata': 'wavedata_base64',\n",
       "  'filename': 'filename_a_00001111000.wav',\n",
       "  'arrayIndexFrom': 20,\n",
       "  'arrayIndexTo': 39,\n",
       "  'nScore': 0.987},\n",
       " {'phoneme': 'a',\n",
       "  'wavedata': 'wavedata_base64',\n",
       "  'filename': 'filename_a_00001111000.wav',\n",
       "  'arrayIndexFrom': 20,\n",
       "  'arrayIndexTo': 39,\n",
       "  'nScore': 0.987}]"
      ]
     },
     "execution_count": 200,
     "metadata": {},
     "output_type": "execute_result"
    }
   ],
   "source": [
    "response.json()"
   ]
  },
  {
   "cell_type": "code",
   "execution_count": null,
   "metadata": {},
   "outputs": [],
   "source": []
  }
 ],
 "metadata": {
  "kernelspec": {
   "display_name": "Python 3",
   "language": "python",
   "name": "python3"
  },
  "language_info": {
   "codemirror_mode": {
    "name": "ipython",
    "version": 3
   },
   "file_extension": ".py",
   "mimetype": "text/x-python",
   "name": "python",
   "nbconvert_exporter": "python",
   "pygments_lexer": "ipython3",
   "version": "3.9.0"
  }
 },
 "nbformat": 4,
 "nbformat_minor": 4
}
